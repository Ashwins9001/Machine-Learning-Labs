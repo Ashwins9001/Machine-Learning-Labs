{
  "nbformat": 4,
  "nbformat_minor": 0,
  "metadata": {
    "colab": {
      "name": "CS4442-ASN1.ipynb",
      "provenance": [],
      "collapsed_sections": []
    },
    "kernelspec": {
      "name": "python3",
      "display_name": "Python 3"
    },
    "language_info": {
      "name": "python"
    }
  },
  "cells": [
    {
      "cell_type": "markdown",
      "source": [
        "# Question 2: Linear Regression\n",
        "a) Import and plot training, test data"
      ],
      "metadata": {
        "id": "kwhfGN3BgBkV"
      }
    },
    {
      "cell_type": "code",
      "execution_count": 1,
      "metadata": {
        "id": "5fEDUUhDYIyJ"
      },
      "outputs": [],
      "source": [
        "import pandas as pd\n",
        "\n",
        "x_train = pd.read_csv('/content/hw1xtr.dat.txt')\n",
        "y_train = pd.read_csv('/content/hw1ytr.dat.txt')\n",
        "x_test = pd.read_csv('/content/hw1xte.dat.txt')\n",
        "y_test = pd.read_csv('/content/hw1yte.dat.txt')\n"
      ]
    },
    {
      "cell_type": "code",
      "source": [
        "import matplotlib.pyplot as plt\n",
        "\n",
        "plt.scatter(x_train, y_train)\n",
        "plt.title('Comparing Training Data')\n",
        "plt.xlabel('Training Inputs')\n",
        "plt.ylabel('Training Outputs')"
      ],
      "metadata": {
        "colab": {
          "base_uri": "https://localhost:8080/",
          "height": 313
        },
        "id": "OGeCYaqfY7yh",
        "outputId": "19ddc8d3-bb5b-4b25-e775-14c136918e58"
      },
      "execution_count": 2,
      "outputs": [
        {
          "output_type": "execute_result",
          "data": {
            "text/plain": [
              "Text(0, 0.5, 'Training Outputs')"
            ]
          },
          "metadata": {},
          "execution_count": 2
        },
        {
          "output_type": "display_data",
          "data": {
            "image/png": "[encoded data removed]",
            "text/plain": [
              "<Figure size 432x288 with 1 Axes>"
            ]
          },
          "metadata": {
            "needs_background": "light"
          }
        }
      ]
    },
    {
      "cell_type": "code",
      "source": [
        "plt.scatter(x_test, y_test)\n",
        "plt.title('Comparing Test Data')\n",
        "plt.xlabel('Test Inputs')\n",
        "plt.ylabel('Test Outputs')"
      ],
      "metadata": {
        "colab": {
          "base_uri": "https://localhost:8080/",
          "height": 313
        },
        "id": "yaWbyquhZWtC",
        "outputId": "3f6de936-33b7-4640-8ac5-fe02ad2c6b1e"
      },
      "execution_count": 3,
      "outputs": [
        {
          "output_type": "execute_result",
          "data": {
            "text/plain": [
              "Text(0, 0.5, 'Test Outputs')"
            ]
          },
          "metadata": {},
          "execution_count": 3
        },
        {
          "output_type": "display_data",
          "data": {
            "image/png": "[encoded data removed]",
            "text/plain": [
              "<Figure size 432x288 with 1 Axes>"
            ]
          },
          "metadata": {
            "needs_background": "light"
          }
        }
      ]
    },
    {
      "cell_type": "markdown",
      "source": [
        "b) Perform linear regression as per the exact solution. Perform matrix shape checks along the way to ensure dimensionality matches up for proper matrix multiplication & to ensure computation correct."
      ],
      "metadata": {
        "id": "_JAZNaWxgKSS"
      }
    },
    {
      "cell_type": "code",
      "source": [
        "#Create column of 1s and append to training set of x-values (inputs)\n",
        "\n",
        "import numpy as np\n",
        "\n",
        "ones_col = pd.DataFrame(np.ones((x_train.shape[0], 1), dtype=int))\n",
        "x_train = pd.merge(x_train, ones_col, left_index=True, right_index=True)\n",
        "x_train.columns = ['data', 'ones']\n",
        "x_train.head()"
      ],
      "metadata": {
        "colab": {
          "base_uri": "https://localhost:8080/",
          "height": 204
        },
        "id": "xqndymcFZ8sa",
        "outputId": "d99e0ff8-317d-4ed1-a1eb-1bb701419aeb"
      },
      "execution_count": 4,
      "outputs": [
        {
          "output_type": "execute_result",
          "data": {
            "text/html": [
              "\n",
              "  <div id=\"df-9b89c0d0-fe52-49a2-9d41-a3cb7379305d\">\n",
              "    <div class=\"colab-df-container\">\n",
              "      <div>\n",
              "<style scoped>\n",
              "    .dataframe tbody tr th:only-of-type {\n",
              "        vertical-align: middle;\n",
              "    }\n",
              "\n",
              "    .dataframe tbody tr th {\n",
              "        vertical-align: top;\n",
              "    }\n",
              "\n",
              "    .dataframe thead th {\n",
              "        text-align: right;\n",
              "    }\n",
              "</style>\n",
              "<table border=\"1\" class=\"dataframe\">\n",
              "  <thead>\n",
              "    <tr style=\"text-align: right;\">\n",
              "      <th></th>\n",
              "      <th>data</th>\n",
              "      <th>ones</th>\n",
              "    </tr>\n",
              "  </thead>\n",
              "  <tbody>\n",
              "    <tr>\n",
              "      <th>0</th>\n",
              "      <td>3.138190</td>\n",
              "      <td>1</td>\n",
              "    </tr>\n",
              "    <tr>\n",
              "      <th>1</th>\n",
              "      <td>3.442149</td>\n",
              "      <td>1</td>\n",
              "    </tr>\n",
              "    <tr>\n",
              "      <th>2</th>\n",
              "      <td>1.308341</td>\n",
              "      <td>1</td>\n",
              "    </tr>\n",
              "    <tr>\n",
              "      <th>3</th>\n",
              "      <td>0.995442</td>\n",
              "      <td>1</td>\n",
              "    </tr>\n",
              "    <tr>\n",
              "      <th>4</th>\n",
              "      <td>3.241455</td>\n",
              "      <td>1</td>\n",
              "    </tr>\n",
              "  </tbody>\n",
              "</table>\n",
              "</div>\n",
              "      <button class=\"colab-df-convert\" onclick=\"convertToInteractive('df-9b89c0d0-fe52-49a2-9d41-a3cb7379305d')\"\n",
              "              title=\"Convert this dataframe to an interactive table.\"\n",
              "              style=\"display:none;\">\n",
              "        \n",
              "  <svg xmlns=\"http://www.w3.org/2000/svg\" height=\"24px\"viewBox=\"0 0 24 24\"\n",
              "       width=\"24px\">\n",
              "    <path d=\"M0 0h24v24H0V0z\" fill=\"none\"/>\n",
              "    <path d=\"M18.56 5.44l.94 2.06.94-2.06 2.06-.94-2.06-.94-.94-2.06-.94 2.06-2.06.94zm-11 1L8.5 8.5l.94-2.06 2.06-.94-2.06-.94L8.5 2.5l-.94 2.06-2.06.94zm10 10l.94 2.06.94-2.06 2.06-.94-2.06-.94-.94-2.06-.94 2.06-2.06.94z\"/><path d=\"M17.41 7.96l-1.37-1.37c-.4-.4-.92-.59-1.43-.59-.52 0-1.04.2-1.43.59L10.3 9.45l-7.72 7.72c-.78.78-.78 2.05 0 2.83L4 21.41c.39.39.9.59 1.41.59.51 0 1.02-.2 1.41-.59l7.78-7.78 2.81-2.81c.8-.78.8-2.07 0-2.86zM5.41 20L4 18.59l7.72-7.72 1.47 1.35L5.41 20z\"/>\n",
              "  </svg>\n",
              "      </button>\n",
              "      \n",
              "  <style>\n",
              "    .colab-df-container {\n",
              "      display:flex;\n",
              "      flex-wrap:wrap;\n",
              "      gap: 12px;\n",
              "    }\n",
              "\n",
              "    .colab-df-convert {\n",
              "      background-color: #E8F0FE;\n",
              "      border: none;\n",
              "      border-radius: 50%;\n",
              "      cursor: pointer;\n",
              "      display: none;\n",
              "      fill: #1967D2;\n",
              "      height: 32px;\n",
              "      padding: 0 0 0 0;\n",
              "      width: 32px;\n",
              "    }\n",
              "\n",
              "    .colab-df-convert:hover {\n",
              "      background-color: #E2EBFA;\n",
              "      box-shadow: 0px 1px 2px rgba(60, 64, 67, 0.3), 0px 1px 3px 1px rgba(60, 64, 67, 0.15);\n",
              "      fill: #174EA6;\n",
              "    }\n",
              "\n",
              "    [theme=dark] .colab-df-convert {\n",
              "      background-color: #3B4455;\n",
              "      fill: #D2E3FC;\n",
              "    }\n",
              "\n",
              "    [theme=dark] .colab-df-convert:hover {\n",
              "      background-color: #434B5C;\n",
              "      box-shadow: 0px 1px 3px 1px rgba(0, 0, 0, 0.15);\n",
              "      filter: drop-shadow(0px 1px 2px rgba(0, 0, 0, 0.3));\n",
              "      fill: #FFFFFF;\n",
              "    }\n",
              "  </style>\n",
              "\n",
              "      <script>\n",
              "        const buttonEl =\n",
              "          document.querySelector('#df-9b89c0d0-fe52-49a2-9d41-a3cb7379305d button.colab-df-convert');\n",
              "        buttonEl.style.display =\n",
              "          google.colab.kernel.accessAllowed ? 'block' : 'none';\n",
              "\n",
              "        async function convertToInteractive(key) {\n",
              "          const element = document.querySelector('#df-9b89c0d0-fe52-49a2-9d41-a3cb7379305d');\n",
              "          const dataTable =\n",
              "            await google.colab.kernel.invokeFunction('convertToInteractive',\n",
              "                                                     [key], {});\n",
              "          if (!dataTable) return;\n",
              "\n",
              "          const docLinkHtml = 'Like what you see? Visit the ' +\n",
              "            '<a target=\"_blank\" href=https://colab.research.google.com/notebooks/data_table.ipynb>data table notebook</a>'\n",
              "            + ' to learn more about interactive tables.';\n",
              "          element.innerHTML = '';\n",
              "          dataTable['output_type'] = 'display_data';\n",
              "          await google.colab.output.renderOutput(dataTable, element);\n",
              "          const docLink = document.createElement('div');\n",
              "          docLink.innerHTML = docLinkHtml;\n",
              "          element.appendChild(docLink);\n",
              "        }\n",
              "      </script>\n",
              "    </div>\n",
              "  </div>\n",
              "  "
            ],
            "text/plain": [
              "       data  ones\n",
              "0  3.138190     1\n",
              "1  3.442149     1\n",
              "2  1.308341     1\n",
              "3  0.995442     1\n",
              "4  3.241455     1"
            ]
          },
          "metadata": {},
          "execution_count": 4
        }
      ]
    },
    {
      "cell_type": "code",
      "source": [
        "#Formulate numpy arrays to easily do matrix operations, create the X matrix and its transpose from regression solution\n",
        "\n",
        "x_train_matrix = x_train.to_numpy()\n",
        "x_train_matrix_t = x_train_matrix.transpose()\n",
        "print(\"Shape of X matrix is: \" + str(x_train_matrix.shape))\n",
        "print(\"Shape of transpose of X matrix is: \" + str(x_train_matrix_t.shape))"
      ],
      "metadata": {
        "colab": {
          "base_uri": "https://localhost:8080/",
          "height": 0
        },
        "id": "cRJTYvgqclZG",
        "outputId": "c2366fb6-623e-4a9f-9f0a-c421421d0afd"
      },
      "execution_count": 5,
      "outputs": [
        {
          "output_type": "stream",
          "name": "stdout",
          "text": [
            "Shape of X matrix is: (39, 2)\n",
            "Shape of transpose of X matrix is: (2, 39)\n"
          ]
        }
      ]
    },
    {
      "cell_type": "code",
      "source": [
        "#Compute the product of: (X^T)X\n",
        "\n",
        "x_T_x = np.matmul(x_train_matrix_t, x_train_matrix)\n",
        "print(\"Shape of (X^T)X is: \" + str(x_T_x.shape))"
      ],
      "metadata": {
        "colab": {
          "base_uri": "https://localhost:8080/",
          "height": 0
        },
        "id": "Ex4Wl5MGe9Gu",
        "outputId": "65806d0d-2564-41dd-bf87-d6c4fbcce4f6"
      },
      "execution_count": 6,
      "outputs": [
        {
          "output_type": "stream",
          "name": "stdout",
          "text": [
            "Shape of (X^T)X is: (2, 2)\n"
          ]
        }
      ]
    },
    {
      "cell_type": "code",
      "source": [
        "#Compute the inverse of ((X^T)X)\n",
        "\n",
        "x_T_x_inv = np.linalg.inv(x_T_x)\n",
        "print(\"Shape of ((X^T)X)-1 is: \" + str(x_T_x_inv.shape))"
      ],
      "metadata": {
        "colab": {
          "base_uri": "https://localhost:8080/",
          "height": 0
        },
        "id": "xBbPgkAifbIC",
        "outputId": "14c6749e-5f81-440e-900b-2b8bdd703a73"
      },
      "execution_count": 7,
      "outputs": [
        {
          "output_type": "stream",
          "name": "stdout",
          "text": [
            "Shape of ((X^T)X)-1 is: (2, 2)\n"
          ]
        }
      ]
    },
    {
      "cell_type": "code",
      "source": [
        "#Compute (X^T)y\n",
        "\n",
        "y_train_matrix = y_train.to_numpy()\n",
        "x_T_y = np.matmul(x_train_matrix_t, y_train_matrix)\n",
        "print(\"Shape of (X^T)y is: \" + str(x_T_y.shape))"
      ],
      "metadata": {
        "colab": {
          "base_uri": "https://localhost:8080/",
          "height": 0
        },
        "id": "iFegDrQJfiZ0",
        "outputId": "0be860c9-1657-41e9-8417-85041c9bb93d"
      },
      "execution_count": 8,
      "outputs": [
        {
          "output_type": "stream",
          "name": "stdout",
          "text": [
            "Shape of (X^T)y is: (2, 1)\n"
          ]
        }
      ]
    },
    {
      "cell_type": "code",
      "source": [
        "#Compute the regression coefficients for w by ((X^T)X)-1 * (X^T)y\n",
        "\n",
        "soln = np.matmul(x_T_x_inv, x_T_y)\n",
        "soln"
      ],
      "metadata": {
        "colab": {
          "base_uri": "https://localhost:8080/",
          "height": 0
        },
        "id": "swddoihEg2A8",
        "outputId": "5636a112-98ca-4f6c-ad6a-6d320953920a"
      },
      "execution_count": 9,
      "outputs": [
        {
          "output_type": "execute_result",
          "data": {
            "text/plain": [
              "array([[0.78621257],\n",
              "       [3.65153963]])"
            ]
          },
          "metadata": {},
          "execution_count": 9
        }
      ]
    },
    {
      "cell_type": "markdown",
      "source": [
        "c) Plot the regression line against training and test sets, compute accuracy"
      ],
      "metadata": {
        "id": "2EnHZENltIlw"
      }
    },
    {
      "cell_type": "code",
      "source": [
        "#Display computed regression line over training data to estimate fit\n",
        "\n",
        "pred_x = np.linspace(0, 4, num=500)\n",
        "pred_y = soln[0]*pred_x + soln[1]\n",
        "\n",
        "ax = plt.axes()\n",
        "\n",
        "ax.plot(pred_x, pred_y)\n",
        "x_train.columns = ['data', 'ones']\n",
        "ax.scatter(x_train['data'], y_train)\n",
        "plt.title(\"Comparison of Training Data With Estimated Regression Line\")"
      ],
      "metadata": {
        "colab": {
          "base_uri": "https://localhost:8080/",
          "height": 300
        },
        "id": "dpgF4pRQhFpo",
        "outputId": "43dfcb7a-98f3-4ec8-9180-2e59b9fbe06a"
      },
      "execution_count": 10,
      "outputs": [
        {
          "output_type": "execute_result",
          "data": {
            "text/plain": [
              "Text(0.5, 1.0, 'Comparison of Training Data With Estimated Regression Line')"
            ]
          },
          "metadata": {},
          "execution_count": 10
        },
        {
          "output_type": "display_data",
          "data": {
            "image/png": "[encoded data removed]",
            "text/plain": [
              "<Figure size 432x288 with 1 Axes>"
            ]
          },
          "metadata": {
            "needs_background": "light"
          }
        }
      ]
    },
    {
      "cell_type": "code",
      "source": [
        "#Compute error for the train set\n",
        "\n",
        "y_train.columns = ['data']\n",
        "\n",
        "train_err = 0\n",
        "\n",
        "for idx, row in y_train.iterrows():\n",
        "  train_err += ((soln[0]*x_train['data'][idx] + soln[1]) - y_train['data'][idx]) ** 2\n",
        "\n",
        "train_err /= y_train.shape[0]\n",
        "train_err *= 100\n",
        "\n",
        "print(\"Training error for linear regression is: \" + str(train_err[0]) + \" %\")"
      ],
      "metadata": {
        "colab": {
          "base_uri": "https://localhost:8080/",
          "height": 0
        },
        "id": "sQIOtDs5p2g2",
        "outputId": "fd47eb21-feaa-40e2-ddff-baf43fd16861"
      },
      "execution_count": 11,
      "outputs": [
        {
          "output_type": "stream",
          "name": "stdout",
          "text": [
            "Training error for linear regression is: 49.155747873335415 %\n"
          ]
        }
      ]
    },
    {
      "cell_type": "code",
      "source": [
        "#Display computed regression line over test data to estimate fit\n",
        "\n",
        "pred_x = np.linspace(0, 4, num=500)\n",
        "pred_y = soln[0]*pred_x + soln[1]\n",
        "\n",
        "ax = plt.axes()\n",
        "\n",
        "ax.plot(pred_x, pred_y)\n",
        "ax.scatter(x_test, y_test)\n",
        "plt.title(\"Comparison of Test Data With Estimated Regression Line\")"
      ],
      "metadata": {
        "colab": {
          "base_uri": "https://localhost:8080/",
          "height": 300
        },
        "id": "Gbyv3zRNscNQ",
        "outputId": "f8135364-0122-474f-de31-6578d0630444"
      },
      "execution_count": 12,
      "outputs": [
        {
          "output_type": "execute_result",
          "data": {
            "text/plain": [
              "Text(0.5, 1.0, 'Comparison of Test Data With Estimated Regression Line')"
            ]
          },
          "metadata": {},
          "execution_count": 12
        },
        {
          "output_type": "display_data",
          "data": {
            "image/png": "[encoded data removed]",
            "text/plain": [
              "<Figure size 432x288 with 1 Axes>"
            ]
          },
          "metadata": {
            "needs_background": "light"
          }
        }
      ]
    },
    {
      "cell_type": "code",
      "source": [
        "y_test.columns = ['data']\n",
        "x_test.columns = ['data']\n",
        "\n",
        "test_err = 0\n",
        "\n",
        "for idx, row in y_test.iterrows():\n",
        "  test_err += ((soln[0]*x_test['data'][idx] + soln[1]) - y_test['data'][idx]) ** 2\n",
        "\n",
        "test_err /= y_test.shape[0]\n",
        "test_err *= 100\n",
        "\n",
        "print(\"Testing error for linear regression is: \" + str(test_err[0]) + \" %\")"
      ],
      "metadata": {
        "colab": {
          "base_uri": "https://localhost:8080/",
          "height": 0
        },
        "id": "wvsvLE7aoNC-",
        "outputId": "6396de3b-b8c3-45d6-f8c2-80b2556c89c2"
      },
      "execution_count": 13,
      "outputs": [
        {
          "output_type": "stream",
          "name": "stdout",
          "text": [
            "Testing error for linear regression is: 47.8900250829499 %\n"
          ]
        }
      ]
    },
    {
      "cell_type": "markdown",
      "source": [
        "With high training and test error it is evident that the linear regression model is a poor fit to the dataset."
      ],
      "metadata": {
        "id": "W6YxJk9eVMfp"
      }
    },
    {
      "cell_type": "markdown",
      "source": [
        "# Question 2: Quadratic Fit Regression\n",
        "d) Repeat the prior process but now by applying a quadratic fit"
      ],
      "metadata": {
        "id": "OxgQdADWs-GB"
      }
    },
    {
      "cell_type": "code",
      "source": [
        "#Formulate list of squared x training values and create dataframe from it\n",
        "\n",
        "square_x = []\n",
        "for idx in range(x_train.shape[0]):\n",
        "  squared_sample = x_train['data'][idx] ** 2\n",
        "  square_x.append(squared_sample)\n",
        "\n",
        "x_train_quad = pd.DataFrame(square_x)\n",
        "x_train_quad = pd.merge(x_train_quad, x_train, left_index=True, right_index=True)\n",
        "x_train_quad.columns = ['squared data', 'data', 'ones']\n",
        "x_train_quad.head()"
      ],
      "metadata": {
        "colab": {
          "base_uri": "https://localhost:8080/",
          "height": 204
        },
        "id": "B3boOSgNtCpS",
        "outputId": "7df24eef-ff79-49bc-cddb-8fc67fac1066"
      },
      "execution_count": 14,
      "outputs": [
        {
          "output_type": "execute_result",
          "data": {
            "text/html": [
              "\n",
              "  <div id=\"df-3bdec485-48cd-42b9-828c-1bd55d1c4827\">\n",
              "    <div class=\"colab-df-container\">\n",
              "      <div>\n",
              "<style scoped>\n",
              "    .dataframe tbody tr th:only-of-type {\n",
              "        vertical-align: middle;\n",
              "    }\n",
              "\n",
              "    .dataframe tbody tr th {\n",
              "        vertical-align: top;\n",
              "    }\n",
              "\n",
              "    .dataframe thead th {\n",
              "        text-align: right;\n",
              "    }\n",
              "</style>\n",
              "<table border=\"1\" class=\"dataframe\">\n",
              "  <thead>\n",
              "    <tr style=\"text-align: right;\">\n",
              "      <th></th>\n",
              "      <th>squared data</th>\n",
              "      <th>data</th>\n",
              "      <th>ones</th>\n",
              "    </tr>\n",
              "  </thead>\n",
              "  <tbody>\n",
              "    <tr>\n",
              "      <th>0</th>\n",
              "      <td>9.848239</td>\n",
              "      <td>3.138190</td>\n",
              "      <td>1</td>\n",
              "    </tr>\n",
              "    <tr>\n",
              "      <th>1</th>\n",
              "      <td>11.848390</td>\n",
              "      <td>3.442149</td>\n",
              "      <td>1</td>\n",
              "    </tr>\n",
              "    <tr>\n",
              "      <th>2</th>\n",
              "      <td>1.711756</td>\n",
              "      <td>1.308341</td>\n",
              "      <td>1</td>\n",
              "    </tr>\n",
              "    <tr>\n",
              "      <th>3</th>\n",
              "      <td>0.990905</td>\n",
              "      <td>0.995442</td>\n",
              "      <td>1</td>\n",
              "    </tr>\n",
              "    <tr>\n",
              "      <th>4</th>\n",
              "      <td>10.507030</td>\n",
              "      <td>3.241455</td>\n",
              "      <td>1</td>\n",
              "    </tr>\n",
              "  </tbody>\n",
              "</table>\n",
              "</div>\n",
              "      <button class=\"colab-df-convert\" onclick=\"convertToInteractive('df-3bdec485-48cd-42b9-828c-1bd55d1c4827')\"\n",
              "              title=\"Convert this dataframe to an interactive table.\"\n",
              "              style=\"display:none;\">\n",
              "        \n",
              "  <svg xmlns=\"http://www.w3.org/2000/svg\" height=\"24px\"viewBox=\"0 0 24 24\"\n",
              "       width=\"24px\">\n",
              "    <path d=\"M0 0h24v24H0V0z\" fill=\"none\"/>\n",
              "    <path d=\"M18.56 5.44l.94 2.06.94-2.06 2.06-.94-2.06-.94-.94-2.06-.94 2.06-2.06.94zm-11 1L8.5 8.5l.94-2.06 2.06-.94-2.06-.94L8.5 2.5l-.94 2.06-2.06.94zm10 10l.94 2.06.94-2.06 2.06-.94-2.06-.94-.94-2.06-.94 2.06-2.06.94z\"/><path d=\"M17.41 7.96l-1.37-1.37c-.4-.4-.92-.59-1.43-.59-.52 0-1.04.2-1.43.59L10.3 9.45l-7.72 7.72c-.78.78-.78 2.05 0 2.83L4 21.41c.39.39.9.59 1.41.59.51 0 1.02-.2 1.41-.59l7.78-7.78 2.81-2.81c.8-.78.8-2.07 0-2.86zM5.41 20L4 18.59l7.72-7.72 1.47 1.35L5.41 20z\"/>\n",
              "  </svg>\n",
              "      </button>\n",
              "      \n",
              "  <style>\n",
              "    .colab-df-container {\n",
              "      display:flex;\n",
              "      flex-wrap:wrap;\n",
              "      gap: 12px;\n",
              "    }\n",
              "\n",
              "    .colab-df-convert {\n",
              "      background-color: #E8F0FE;\n",
              "      border: none;\n",
              "      border-radius: 50%;\n",
              "      cursor: pointer;\n",
              "      display: none;\n",
              "      fill: #1967D2;\n",
              "      height: 32px;\n",
              "      padding: 0 0 0 0;\n",
              "      width: 32px;\n",
              "    }\n",
              "\n",
              "    .colab-df-convert:hover {\n",
              "      background-color: #E2EBFA;\n",
              "      box-shadow: 0px 1px 2px rgba(60, 64, 67, 0.3), 0px 1px 3px 1px rgba(60, 64, 67, 0.15);\n",
              "      fill: #174EA6;\n",
              "    }\n",
              "\n",
              "    [theme=dark] .colab-df-convert {\n",
              "      background-color: #3B4455;\n",
              "      fill: #D2E3FC;\n",
              "    }\n",
              "\n",
              "    [theme=dark] .colab-df-convert:hover {\n",
              "      background-color: #434B5C;\n",
              "      box-shadow: 0px 1px 3px 1px rgba(0, 0, 0, 0.15);\n",
              "      filter: drop-shadow(0px 1px 2px rgba(0, 0, 0, 0.3));\n",
              "      fill: #FFFFFF;\n",
              "    }\n",
              "  </style>\n",
              "\n",
              "      <script>\n",
              "        const buttonEl =\n",
              "          document.querySelector('#df-3bdec485-48cd-42b9-828c-1bd55d1c4827 button.colab-df-convert');\n",
              "        buttonEl.style.display =\n",
              "          google.colab.kernel.accessAllowed ? 'block' : 'none';\n",
              "\n",
              "        async function convertToInteractive(key) {\n",
              "          const element = document.querySelector('#df-3bdec485-48cd-42b9-828c-1bd55d1c4827');\n",
              "          const dataTable =\n",
              "            await google.colab.kernel.invokeFunction('convertToInteractive',\n",
              "                                                     [key], {});\n",
              "          if (!dataTable) return;\n",
              "\n",
              "          const docLinkHtml = 'Like what you see? Visit the ' +\n",
              "            '<a target=\"_blank\" href=https://colab.research.google.com/notebooks/data_table.ipynb>data table notebook</a>'\n",
              "            + ' to learn more about interactive tables.';\n",
              "          element.innerHTML = '';\n",
              "          dataTable['output_type'] = 'display_data';\n",
              "          await google.colab.output.renderOutput(dataTable, element);\n",
              "          const docLink = document.createElement('div');\n",
              "          docLink.innerHTML = docLinkHtml;\n",
              "          element.appendChild(docLink);\n",
              "        }\n",
              "      </script>\n",
              "    </div>\n",
              "  </div>\n",
              "  "
            ],
            "text/plain": [
              "   squared data      data  ones\n",
              "0      9.848239  3.138190     1\n",
              "1     11.848390  3.442149     1\n",
              "2      1.711756  1.308341     1\n",
              "3      0.990905  0.995442     1\n",
              "4     10.507030  3.241455     1"
            ]
          },
          "metadata": {},
          "execution_count": 14
        }
      ]
    },
    {
      "cell_type": "code",
      "source": [
        "#Repeat process of computing the regression coefficients, but now use the matrix including squared values\n",
        "\n",
        "x_train_quad_matrix = x_train_quad.to_numpy()\n",
        "x_train_quad_matrix_t = x_train_quad.transpose()\n",
        "print(\"Shape of quadratic X matrix is: \" + str(x_train_quad_matrix.shape))\n",
        "print(\"Shape of transpose of quadratic X matrix is: \" + str(x_train_quad_matrix_t.shape))\n",
        "\n",
        "x_T_x_quad = np.matmul(x_train_quad_matrix_t, x_train_quad_matrix)\n",
        "print(\"Shape of quadratic (X^T)X is: \" + str(x_T_x_quad.shape))\n",
        "\n",
        "x_T_x_quad_inv = np.linalg.inv(x_T_x_quad)\n",
        "print(\"Shape of quadratic ((X^T)X)-1 is: \" + str(x_T_x_quad_inv.shape))\n",
        "\n",
        "x_T_y_quad = np.matmul(x_train_quad_matrix_t, y_train_matrix)\n",
        "print(\"Shape of quadratic (X^T)y is: \" + str(x_T_y_quad.shape))\n",
        "\n",
        "soln_quad = np.matmul(x_T_x_quad_inv, x_T_y_quad)\n",
        "print(\"\\nSolution coefficients assuming quadratic fit are: \" + str(soln_quad))"
      ],
      "metadata": {
        "colab": {
          "base_uri": "https://localhost:8080/",
          "height": 0
        },
        "id": "yASgXRa8tq8z",
        "outputId": "37b92f3a-83b6-47af-c67f-59088aa9a665"
      },
      "execution_count": 15,
      "outputs": [
        {
          "output_type": "stream",
          "name": "stdout",
          "text": [
            "Shape of quadratic X matrix is: (39, 3)\n",
            "Shape of transpose of quadratic X matrix is: (3, 39)\n",
            "Shape of quadratic (X^T)X is: (3, 3)\n",
            "Shape of quadratic ((X^T)X)-1 is: (3, 3)\n",
            "Shape of quadratic (X^T)y is: (3, 1)\n",
            "\n",
            "Solution coefficients assuming quadratic fit are:           0\n",
            "0 -0.541570\n",
            "1  2.671826\n",
            "2  2.748961\n"
          ]
        }
      ]
    },
    {
      "cell_type": "code",
      "source": [
        "#Compute error for the train set\n",
        "\n",
        "train_err = 0\n",
        "\n",
        "for idx, row in y_train.iterrows():\n",
        "  train_err += ((soln_quad[0][0]*(x_train['data'][idx]**2) + soln_quad[0][1]*(x_train['data'][idx]) + soln_quad[0][2]) - y_train['data'][idx]) ** 2\n",
        "\n",
        "train_err /= y_train.shape[0]\n",
        "train_err *= 100\n",
        "\n",
        "print(\"Training error for quadratic fit regression is: \" + str(train_err) + \" %\")"
      ],
      "metadata": {
        "colab": {
          "base_uri": "https://localhost:8080/",
          "height": 0
        },
        "id": "RiTeZYiOQS4I",
        "outputId": "00ab2fd6-c24e-41e8-ca0b-84f96359a580"
      },
      "execution_count": 16,
      "outputs": [
        {
          "output_type": "stream",
          "name": "stdout",
          "text": [
            "Training error for quadratic fit regression is: 18.89808989050922 %\n"
          ]
        }
      ]
    },
    {
      "cell_type": "code",
      "source": [
        "#Display computed regression line over training data to estimate fit\n",
        "\n",
        "pred_x_quad = np.linspace(0, 4, num=500)\n",
        "\n",
        "pred_y_quad = soln_quad[0][0]*(pred_x_quad**2) + soln_quad[0][1]*(pred_x_quad) + soln_quad[0][2]\n",
        "\n",
        "ax = plt.axes()\n",
        "\n",
        "ax.plot(pred_x_quad, pred_y_quad)\n",
        "ax.scatter(x_train['data'], y_train)\n",
        "plt.title(\"Comparison of Training Data With Estimated Quadratic Regression Line\")"
      ],
      "metadata": {
        "colab": {
          "base_uri": "https://localhost:8080/",
          "height": 300
        },
        "id": "qget71GPvc_2",
        "outputId": "bfc71f5f-100c-40f2-8aee-b9c5f0762084"
      },
      "execution_count": 17,
      "outputs": [
        {
          "output_type": "execute_result",
          "data": {
            "text/plain": [
              "Text(0.5, 1.0, 'Comparison of Training Data With Estimated Quadratic Regression Line')"
            ]
          },
          "metadata": {},
          "execution_count": 17
        },
        {
          "output_type": "display_data",
          "data": {
            "image/png": "[encoded data removed]",
            "text/plain": [
              "<Figure size 432x288 with 1 Axes>"
            ]
          },
          "metadata": {
            "needs_background": "light"
          }
        }
      ]
    },
    {
      "cell_type": "code",
      "source": [
        "#Compute error for the test set\n",
        "\n",
        "test_err = 0\n",
        "\n",
        "for idx, row in y_test.iterrows():\n",
        "  test_err += ((soln_quad[0][0]*(x_test['data'][idx]**2) + soln_quad[0][1]*(x_test['data'][idx]) + soln_quad[0][2]) - y_test['data'][idx]) ** 2\n",
        "\n",
        "test_err /= y_test.shape[0]\n",
        "test_err *= 100\n",
        "\n",
        "print(\"Test error for quadratic fit regression is: \" + str(test_err) + \" %\")"
      ],
      "metadata": {
        "id": "fFCFiv2zxEWG",
        "colab": {
          "base_uri": "https://localhost:8080/",
          "height": 0
        },
        "outputId": "42ca7b44-5a12-4364-c9da-11e2c0d94d67"
      },
      "execution_count": 18,
      "outputs": [
        {
          "output_type": "stream",
          "name": "stdout",
          "text": [
            "Test error for quadratic fit regression is: 87.87140761954036 %\n"
          ]
        }
      ]
    },
    {
      "cell_type": "code",
      "source": [
        "#Display computed regression line over test data to estimate fit\n",
        "\n",
        "pred_x_quad = np.linspace(0, 4, num=500)\n",
        "\n",
        "pred_y_quad = soln_quad[0][0]*(pred_x_quad**2) + soln_quad[0][1]*(pred_x_quad) + soln_quad[0][2]\n",
        "\n",
        "ax = plt.axes()\n",
        "\n",
        "ax.plot(pred_x_quad, pred_y_quad)\n",
        "ax.scatter(x_test['data'], y_test)\n",
        "plt.title(\"Comparison of Test Data With Estimated Quadratic Regression Line\")"
      ],
      "metadata": {
        "colab": {
          "base_uri": "https://localhost:8080/",
          "height": 300
        },
        "id": "E00BN6OL5P7Q",
        "outputId": "598bc25b-1ff9-460d-8722-195c1c6624bd"
      },
      "execution_count": 19,
      "outputs": [
        {
          "output_type": "execute_result",
          "data": {
            "text/plain": [
              "Text(0.5, 1.0, 'Comparison of Test Data With Estimated Quadratic Regression Line')"
            ]
          },
          "metadata": {},
          "execution_count": 19
        },
        {
          "output_type": "display_data",
          "data": {
            "image/png": "[encoded data removed]",
            "text/plain": [
              "<Figure size 432x288 with 1 Axes>"
            ]
          },
          "metadata": {
            "needs_background": "light"
          }
        }
      ]
    },
    {
      "cell_type": "markdown",
      "source": [
        "With lower training and test error and evidently a better fit as shown on the graph, the quadratic fit models the data better than a simple linear regression."
      ],
      "metadata": {
        "id": "q0gVtPUjVVms"
      }
    },
    {
      "cell_type": "markdown",
      "source": [
        "# Question 2: Cubic Fit Regression\n",
        "e) Repeat the prior process but now by applying a cubic fit"
      ],
      "metadata": {
        "id": "TQI7UBPORkbB"
      }
    },
    {
      "cell_type": "code",
      "source": [
        "#Formulate list of cubic x training values and create dataframe from it\n",
        "\n",
        "cube_x = []\n",
        "for idx in range(x_train.shape[0]):\n",
        "  cubed_sample = x_train['data'][idx] ** 3\n",
        "  cube_x.append(cubed_sample)\n",
        "\n",
        "x_train_cubic = pd.DataFrame(cube_x)\n",
        "x_train_cubic = pd.merge(x_train_cubic, x_train_quad, left_index=True, right_index=True)\n",
        "x_train_cubic.columns = ['cubic data', 'squared data', 'data', 'ones']\n",
        "x_train_cubic.head()"
      ],
      "metadata": {
        "colab": {
          "base_uri": "https://localhost:8080/",
          "height": 204
        },
        "id": "Ob6_ix9qRsHU",
        "outputId": "8a67c7e5-e450-4be8-c870-6c00f8c3f522"
      },
      "execution_count": 20,
      "outputs": [
        {
          "output_type": "execute_result",
          "data": {
            "text/html": [
              "\n",
              "  <div id=\"df-d42325ed-359d-4007-aa3d-5a165a34125d\">\n",
              "    <div class=\"colab-df-container\">\n",
              "      <div>\n",
              "<style scoped>\n",
              "    .dataframe tbody tr th:only-of-type {\n",
              "        vertical-align: middle;\n",
              "    }\n",
              "\n",
              "    .dataframe tbody tr th {\n",
              "        vertical-align: top;\n",
              "    }\n",
              "\n",
              "    .dataframe thead th {\n",
              "        text-align: right;\n",
              "    }\n",
              "</style>\n",
              "<table border=\"1\" class=\"dataframe\">\n",
              "  <thead>\n",
              "    <tr style=\"text-align: right;\">\n",
              "      <th></th>\n",
              "      <th>cubic data</th>\n",
              "      <th>squared data</th>\n",
              "      <th>data</th>\n",
              "      <th>ones</th>\n",
              "    </tr>\n",
              "  </thead>\n",
              "  <tbody>\n",
              "    <tr>\n",
              "      <th>0</th>\n",
              "      <td>30.905649</td>\n",
              "      <td>9.848239</td>\n",
              "      <td>3.138190</td>\n",
              "      <td>1</td>\n",
              "    </tr>\n",
              "    <tr>\n",
              "      <th>1</th>\n",
              "      <td>40.783923</td>\n",
              "      <td>11.848390</td>\n",
              "      <td>3.442149</td>\n",
              "      <td>1</td>\n",
              "    </tr>\n",
              "    <tr>\n",
              "      <th>2</th>\n",
              "      <td>2.239560</td>\n",
              "      <td>1.711756</td>\n",
              "      <td>1.308341</td>\n",
              "      <td>1</td>\n",
              "    </tr>\n",
              "    <tr>\n",
              "      <th>3</th>\n",
              "      <td>0.986388</td>\n",
              "      <td>0.990905</td>\n",
              "      <td>0.995442</td>\n",
              "      <td>1</td>\n",
              "    </tr>\n",
              "    <tr>\n",
              "      <th>4</th>\n",
              "      <td>34.058063</td>\n",
              "      <td>10.507030</td>\n",
              "      <td>3.241455</td>\n",
              "      <td>1</td>\n",
              "    </tr>\n",
              "  </tbody>\n",
              "</table>\n",
              "</div>\n",
              "      <button class=\"colab-df-convert\" onclick=\"convertToInteractive('df-d42325ed-359d-4007-aa3d-5a165a34125d')\"\n",
              "              title=\"Convert this dataframe to an interactive table.\"\n",
              "              style=\"display:none;\">\n",
              "        \n",
              "  <svg xmlns=\"http://www.w3.org/2000/svg\" height=\"24px\"viewBox=\"0 0 24 24\"\n",
              "       width=\"24px\">\n",
              "    <path d=\"M0 0h24v24H0V0z\" fill=\"none\"/>\n",
              "    <path d=\"M18.56 5.44l.94 2.06.94-2.06 2.06-.94-2.06-.94-.94-2.06-.94 2.06-2.06.94zm-11 1L8.5 8.5l.94-2.06 2.06-.94-2.06-.94L8.5 2.5l-.94 2.06-2.06.94zm10 10l.94 2.06.94-2.06 2.06-.94-2.06-.94-.94-2.06-.94 2.06-2.06.94z\"/><path d=\"M17.41 7.96l-1.37-1.37c-.4-.4-.92-.59-1.43-.59-.52 0-1.04.2-1.43.59L10.3 9.45l-7.72 7.72c-.78.78-.78 2.05 0 2.83L4 21.41c.39.39.9.59 1.41.59.51 0 1.02-.2 1.41-.59l7.78-7.78 2.81-2.81c.8-.78.8-2.07 0-2.86zM5.41 20L4 18.59l7.72-7.72 1.47 1.35L5.41 20z\"/>\n",
              "  </svg>\n",
              "      </button>\n",
              "      \n",
              "  <style>\n",
              "    .colab-df-container {\n",
              "      display:flex;\n",
              "      flex-wrap:wrap;\n",
              "      gap: 12px;\n",
              "    }\n",
              "\n",
              "    .colab-df-convert {\n",
              "      background-color: #E8F0FE;\n",
              "      border: none;\n",
              "      border-radius: 50%;\n",
              "      cursor: pointer;\n",
              "      display: none;\n",
              "      fill: #1967D2;\n",
              "      height: 32px;\n",
              "      padding: 0 0 0 0;\n",
              "      width: 32px;\n",
              "    }\n",
              "\n",
              "    .colab-df-convert:hover {\n",
              "      background-color: #E2EBFA;\n",
              "      box-shadow: 0px 1px 2px rgba(60, 64, 67, 0.3), 0px 1px 3px 1px rgba(60, 64, 67, 0.15);\n",
              "      fill: #174EA6;\n",
              "    }\n",
              "\n",
              "    [theme=dark] .colab-df-convert {\n",
              "      background-color: #3B4455;\n",
              "      fill: #D2E3FC;\n",
              "    }\n",
              "\n",
              "    [theme=dark] .colab-df-convert:hover {\n",
              "      background-color: #434B5C;\n",
              "      box-shadow: 0px 1px 3px 1px rgba(0, 0, 0, 0.15);\n",
              "      filter: drop-shadow(0px 1px 2px rgba(0, 0, 0, 0.3));\n",
              "      fill: #FFFFFF;\n",
              "    }\n",
              "  </style>\n",
              "\n",
              "      <script>\n",
              "        const buttonEl =\n",
              "          document.querySelector('#df-d42325ed-359d-4007-aa3d-5a165a34125d button.colab-df-convert');\n",
              "        buttonEl.style.display =\n",
              "          google.colab.kernel.accessAllowed ? 'block' : 'none';\n",
              "\n",
              "        async function convertToInteractive(key) {\n",
              "          const element = document.querySelector('#df-d42325ed-359d-4007-aa3d-5a165a34125d');\n",
              "          const dataTable =\n",
              "            await google.colab.kernel.invokeFunction('convertToInteractive',\n",
              "                                                     [key], {});\n",
              "          if (!dataTable) return;\n",
              "\n",
              "          const docLinkHtml = 'Like what you see? Visit the ' +\n",
              "            '<a target=\"_blank\" href=https://colab.research.google.com/notebooks/data_table.ipynb>data table notebook</a>'\n",
              "            + ' to learn more about interactive tables.';\n",
              "          element.innerHTML = '';\n",
              "          dataTable['output_type'] = 'display_data';\n",
              "          await google.colab.output.renderOutput(dataTable, element);\n",
              "          const docLink = document.createElement('div');\n",
              "          docLink.innerHTML = docLinkHtml;\n",
              "          element.appendChild(docLink);\n",
              "        }\n",
              "      </script>\n",
              "    </div>\n",
              "  </div>\n",
              "  "
            ],
            "text/plain": [
              "   cubic data  squared data      data  ones\n",
              "0   30.905649      9.848239  3.138190     1\n",
              "1   40.783923     11.848390  3.442149     1\n",
              "2    2.239560      1.711756  1.308341     1\n",
              "3    0.986388      0.990905  0.995442     1\n",
              "4   34.058063     10.507030  3.241455     1"
            ]
          },
          "metadata": {},
          "execution_count": 20
        }
      ]
    },
    {
      "cell_type": "code",
      "source": [
        "#Repeat process of computing the regression coefficients, but now use the matrix including cubic values\n",
        "\n",
        "x_train_cubic_matrix = x_train_cubic.to_numpy()\n",
        "x_train_cubic_matrix_t = x_train_cubic_matrix.transpose()\n",
        "print(\"Shape of cubic X matrix is: \" + str(x_train_cubic_matrix.shape))\n",
        "print(\"Shape of transpose of cubic X matrix is: \" + str(x_train_cubic_matrix_t.shape))\n",
        "\n",
        "x_T_x_cubic = np.matmul(x_train_cubic_matrix_t, x_train_cubic_matrix)\n",
        "print(\"Shape of cubic (X^T)X is: \" + str(x_T_x_cubic.shape))\n",
        "\n",
        "x_T_x_cubic_inv = np.linalg.inv(x_T_x_cubic)\n",
        "print(\"Shape of cubic ((X^T)X)-1 is: \" + str(x_T_x_cubic_inv.shape))\n",
        "\n",
        "x_T_y_cubic = np.matmul(x_train_cubic_matrix_t, y_train_matrix)\n",
        "print(\"Shape of cubic (X^T)y is: \" + str(x_T_y_cubic.shape))\n",
        "\n",
        "soln_cubic = np.matmul(x_T_x_cubic_inv, x_T_y_cubic)\n",
        "print(\"\\nSolution coefficients assuming cubic fit are:\\n \" + str(soln_cubic))"
      ],
      "metadata": {
        "colab": {
          "base_uri": "https://localhost:8080/",
          "height": 0
        },
        "id": "JJPSwg0tSUnP",
        "outputId": "e82dafa9-c056-4456-e6f6-d9befb459b2c"
      },
      "execution_count": 21,
      "outputs": [
        {
          "output_type": "stream",
          "name": "stdout",
          "text": [
            "Shape of cubic X matrix is: (39, 4)\n",
            "Shape of transpose of cubic X matrix is: (4, 39)\n",
            "Shape of cubic (X^T)X is: (4, 4)\n",
            "Shape of cubic ((X^T)X)-1 is: (4, 4)\n",
            "Shape of cubic (X^T)y is: (4, 1)\n",
            "\n",
            "Solution coefficients assuming cubic fit are:\n",
            " [[ 0.45618402]\n",
            " [-2.93764873]\n",
            " [ 5.89890212]\n",
            " [ 2.02128043]]\n"
          ]
        }
      ]
    },
    {
      "cell_type": "code",
      "source": [
        "#Compute error for the train set\n",
        "\n",
        "train_err = 0\n",
        "\n",
        "for idx, row in y_train.iterrows():\n",
        "  train_err += ((soln_cubic[0][0]*(x_train['data'][idx]**3) + soln_cubic[1][0]*(x_train['data'][idx]**2) + soln_cubic[2][0]*(x_train['data'][idx]) + soln_cubic[3][0]) - y_train['data'][idx]) ** 2\n",
        "\n",
        "train_err /= y_train.shape[0]\n",
        "train_err *= 100\n",
        "\n",
        "print(\"Training error for cubic fit regression is: \" + str(train_err) + \" %\")"
      ],
      "metadata": {
        "colab": {
          "base_uri": "https://localhost:8080/",
          "height": 0
        },
        "id": "xIQwLry_TGDo",
        "outputId": "c921d31e-56fd-4d5c-f1a9-ddcdcf265298"
      },
      "execution_count": 22,
      "outputs": [
        {
          "output_type": "stream",
          "name": "stdout",
          "text": [
            "Training error for cubic fit regression is: 3.8387363121714917 %\n"
          ]
        }
      ]
    },
    {
      "cell_type": "code",
      "source": [
        "#Display computed regression line over training data to estimate fit\n",
        "\n",
        "pred_x_quad = np.linspace(0, 4, num=500)\n",
        "\n",
        "\n",
        "pred_y_quad = soln_cubic[0][0]*(pred_x_quad**3) + soln_cubic[1][0]*(pred_x_quad**2) + soln_cubic[2][0]*pred_x_quad + soln_cubic[3][0]\n",
        "\n",
        "ax = plt.axes()\n",
        "\n",
        "ax.plot(pred_x_quad, pred_y_quad)\n",
        "ax.scatter(x_train['data'], y_train)\n",
        "plt.title(\"Comparison of Training Data With Estimated Cubic Regression Line\")"
      ],
      "metadata": {
        "colab": {
          "base_uri": "https://localhost:8080/",
          "height": 300
        },
        "id": "F4P1TrmbTY1Q",
        "outputId": "534be77f-7550-43c7-c118-c239dd3890cc"
      },
      "execution_count": 23,
      "outputs": [
        {
          "output_type": "execute_result",
          "data": {
            "text/plain": [
              "Text(0.5, 1.0, 'Comparison of Training Data With Estimated Cubic Regression Line')"
            ]
          },
          "metadata": {},
          "execution_count": 23
        },
        {
          "output_type": "display_data",
          "data": {
            "image/png": "[encoded data removed]",
            "text/plain": [
              "<Figure size 432x288 with 1 Axes>"
            ]
          },
          "metadata": {
            "needs_background": "light"
          }
        }
      ]
    },
    {
      "cell_type": "code",
      "source": [
        "#Compute error for the test set\n",
        "\n",
        "test_err = 0\n",
        "\n",
        "for idx, row in y_test.iterrows():\n",
        "  test_err += ((soln_cubic[0][0]*(x_test['data'][idx]**3) + soln_cubic[1][0]*(x_test['data'][idx]**2) + soln_cubic[2][0]*(x_test['data'][idx]) + soln_cubic[3][0]) - y_test['data'][idx]) ** 2\n",
        "\n",
        "test_err /= y_test.shape[0]\n",
        "test_err *= 100\n",
        "\n",
        "print(\"Test error for quadratic fit regression is: \" + str(test_err) + \" %\")"
      ],
      "metadata": {
        "colab": {
          "base_uri": "https://localhost:8080/",
          "height": 0
        },
        "id": "KkVkkwyfUHDy",
        "outputId": "03a17634-c6d5-4603-edd7-77ea5243f435"
      },
      "execution_count": 24,
      "outputs": [
        {
          "output_type": "stream",
          "name": "stdout",
          "text": [
            "Test error for quadratic fit regression is: 6.10285031186408 %\n"
          ]
        }
      ]
    },
    {
      "cell_type": "code",
      "source": [
        "#Display computed regression line over test data to estimate fit\n",
        "\n",
        "pred_x_quad = np.linspace(0, 4, num=500)\n",
        "\n",
        "\n",
        "pred_y_quad = soln_cubic[0][0]*(pred_x_quad**3) + soln_cubic[1][0]*(pred_x_quad**2) + soln_cubic[2][0]*pred_x_quad + soln_cubic[3][0]\n",
        "\n",
        "ax = plt.axes()\n",
        "\n",
        "ax.plot(pred_x_quad, pred_y_quad)\n",
        "ax.scatter(x_test['data'], y_test)\n",
        "plt.title(\"Comparison of Test Data With Estimated Cubic Regression Line\")"
      ],
      "metadata": {
        "colab": {
          "base_uri": "https://localhost:8080/",
          "height": 300
        },
        "id": "DycqdGSp53ax",
        "outputId": "84145745-1b21-49cf-f1b1-155ef664919d"
      },
      "execution_count": 25,
      "outputs": [
        {
          "output_type": "execute_result",
          "data": {
            "text/plain": [
              "Text(0.5, 1.0, 'Comparison of Test Data With Estimated Cubic Regression Line')"
            ]
          },
          "metadata": {},
          "execution_count": 25
        },
        {
          "output_type": "display_data",
          "data": {
            "image/png": "[encoded data removed]",
            "text/plain": [
              "<Figure size 432x288 with 1 Axes>"
            ]
          },
          "metadata": {
            "needs_background": "light"
          }
        }
      ]
    },
    {
      "cell_type": "markdown",
      "source": [
        "With even lower training and test error and a great fit as shown in the graph, cubic regression outperforms both linear and quadratic regression. Not only does the model fit the training set well, but its accuracy remains high in the test set indicating overfitting is not taking place. Overall the cubic model offers the ideal bias-variance tradeoff. "
      ],
      "metadata": {
        "id": "vaZLUzd8Vd7U"
      }
    },
    {
      "cell_type": "markdown",
      "source": [
        "# Question 2: Polynomial Fit Regression\n",
        "f) Repeat the prior process but now by applying a fourth-degree (polynomial) fit"
      ],
      "metadata": {
        "id": "sxqy5ZOLVy-D"
      }
    },
    {
      "cell_type": "code",
      "source": [
        "#Formulate list of polynomial x training values and create dataframe from it\n",
        "\n",
        "poly_x = []\n",
        "for idx in range(x_train.shape[0]):\n",
        "  poly_sample = x_train['data'][idx] ** 4\n",
        "  poly_x.append(poly_sample)\n",
        "\n",
        "x_train_poly = pd.DataFrame(poly_x)\n",
        "x_train_poly = pd.merge(x_train_poly, x_train_cubic, left_index=True, right_index=True)\n",
        "x_train_poly.columns = ['polynomial data', 'cubic data', 'squared data', 'data', 'ones']\n",
        "x_train_poly.head()"
      ],
      "metadata": {
        "colab": {
          "base_uri": "https://localhost:8080/",
          "height": 204
        },
        "id": "qQGUSSY8V6Lf",
        "outputId": "690e4eb3-0f50-4c2c-d6e9-ac86dbc0cdf0"
      },
      "execution_count": 26,
      "outputs": [
        {
          "output_type": "execute_result",
          "data": {
            "text/html": [
              "\n",
              "  <div id=\"df-4da843df-2bc6-44b7-b4ce-42ee03999111\">\n",
              "    <div class=\"colab-df-container\">\n",
              "      <div>\n",
              "<style scoped>\n",
              "    .dataframe tbody tr th:only-of-type {\n",
              "        vertical-align: middle;\n",
              "    }\n",
              "\n",
              "    .dataframe tbody tr th {\n",
              "        vertical-align: top;\n",
              "    }\n",
              "\n",
              "    .dataframe thead th {\n",
              "        text-align: right;\n",
              "    }\n",
              "</style>\n",
              "<table border=\"1\" class=\"dataframe\">\n",
              "  <thead>\n",
              "    <tr style=\"text-align: right;\">\n",
              "      <th></th>\n",
              "      <th>polynomial data</th>\n",
              "      <th>cubic data</th>\n",
              "      <th>squared data</th>\n",
              "      <th>data</th>\n",
              "      <th>ones</th>\n",
              "    </tr>\n",
              "  </thead>\n",
              "  <tbody>\n",
              "    <tr>\n",
              "      <th>0</th>\n",
              "      <td>96.987811</td>\n",
              "      <td>30.905649</td>\n",
              "      <td>9.848239</td>\n",
              "      <td>3.138190</td>\n",
              "      <td>1</td>\n",
              "    </tr>\n",
              "    <tr>\n",
              "      <th>1</th>\n",
              "      <td>140.384339</td>\n",
              "      <td>40.783923</td>\n",
              "      <td>11.848390</td>\n",
              "      <td>3.442149</td>\n",
              "      <td>1</td>\n",
              "    </tr>\n",
              "    <tr>\n",
              "      <th>2</th>\n",
              "      <td>2.930107</td>\n",
              "      <td>2.239560</td>\n",
              "      <td>1.711756</td>\n",
              "      <td>1.308341</td>\n",
              "      <td>1</td>\n",
              "    </tr>\n",
              "    <tr>\n",
              "      <th>3</th>\n",
              "      <td>0.981892</td>\n",
              "      <td>0.986388</td>\n",
              "      <td>0.990905</td>\n",
              "      <td>0.995442</td>\n",
              "      <td>1</td>\n",
              "    </tr>\n",
              "    <tr>\n",
              "      <th>4</th>\n",
              "      <td>110.397677</td>\n",
              "      <td>34.058063</td>\n",
              "      <td>10.507030</td>\n",
              "      <td>3.241455</td>\n",
              "      <td>1</td>\n",
              "    </tr>\n",
              "  </tbody>\n",
              "</table>\n",
              "</div>\n",
              "      <button class=\"colab-df-convert\" onclick=\"convertToInteractive('df-4da843df-2bc6-44b7-b4ce-42ee03999111')\"\n",
              "              title=\"Convert this dataframe to an interactive table.\"\n",
              "              style=\"display:none;\">\n",
              "        \n",
              "  <svg xmlns=\"http://www.w3.org/2000/svg\" height=\"24px\"viewBox=\"0 0 24 24\"\n",
              "       width=\"24px\">\n",
              "    <path d=\"M0 0h24v24H0V0z\" fill=\"none\"/>\n",
              "    <path d=\"M18.56 5.44l.94 2.06.94-2.06 2.06-.94-2.06-.94-.94-2.06-.94 2.06-2.06.94zm-11 1L8.5 8.5l.94-2.06 2.06-.94-2.06-.94L8.5 2.5l-.94 2.06-2.06.94zm10 10l.94 2.06.94-2.06 2.06-.94-2.06-.94-.94-2.06-.94 2.06-2.06.94z\"/><path d=\"M17.41 7.96l-1.37-1.37c-.4-.4-.92-.59-1.43-.59-.52 0-1.04.2-1.43.59L10.3 9.45l-7.72 7.72c-.78.78-.78 2.05 0 2.83L4 21.41c.39.39.9.59 1.41.59.51 0 1.02-.2 1.41-.59l7.78-7.78 2.81-2.81c.8-.78.8-2.07 0-2.86zM5.41 20L4 18.59l7.72-7.72 1.47 1.35L5.41 20z\"/>\n",
              "  </svg>\n",
              "      </button>\n",
              "      \n",
              "  <style>\n",
              "    .colab-df-container {\n",
              "      display:flex;\n",
              "      flex-wrap:wrap;\n",
              "      gap: 12px;\n",
              "    }\n",
              "\n",
              "    .colab-df-convert {\n",
              "      background-color: #E8F0FE;\n",
              "      border: none;\n",
              "      border-radius: 50%;\n",
              "      cursor: pointer;\n",
              "      display: none;\n",
              "      fill: #1967D2;\n",
              "      height: 32px;\n",
              "      padding: 0 0 0 0;\n",
              "      width: 32px;\n",
              "    }\n",
              "\n",
              "    .colab-df-convert:hover {\n",
              "      background-color: #E2EBFA;\n",
              "      box-shadow: 0px 1px 2px rgba(60, 64, 67, 0.3), 0px 1px 3px 1px rgba(60, 64, 67, 0.15);\n",
              "      fill: #174EA6;\n",
              "    }\n",
              "\n",
              "    [theme=dark] .colab-df-convert {\n",
              "      background-color: #3B4455;\n",
              "      fill: #D2E3FC;\n",
              "    }\n",
              "\n",
              "    [theme=dark] .colab-df-convert:hover {\n",
              "      background-color: #434B5C;\n",
              "      box-shadow: 0px 1px 3px 1px rgba(0, 0, 0, 0.15);\n",
              "      filter: drop-shadow(0px 1px 2px rgba(0, 0, 0, 0.3));\n",
              "      fill: #FFFFFF;\n",
              "    }\n",
              "  </style>\n",
              "\n",
              "      <script>\n",
              "        const buttonEl =\n",
              "          document.querySelector('#df-4da843df-2bc6-44b7-b4ce-42ee03999111 button.colab-df-convert');\n",
              "        buttonEl.style.display =\n",
              "          google.colab.kernel.accessAllowed ? 'block' : 'none';\n",
              "\n",
              "        async function convertToInteractive(key) {\n",
              "          const element = document.querySelector('#df-4da843df-2bc6-44b7-b4ce-42ee03999111');\n",
              "          const dataTable =\n",
              "            await google.colab.kernel.invokeFunction('convertToInteractive',\n",
              "                                                     [key], {});\n",
              "          if (!dataTable) return;\n",
              "\n",
              "          const docLinkHtml = 'Like what you see? Visit the ' +\n",
              "            '<a target=\"_blank\" href=https://colab.research.google.com/notebooks/data_table.ipynb>data table notebook</a>'\n",
              "            + ' to learn more about interactive tables.';\n",
              "          element.innerHTML = '';\n",
              "          dataTable['output_type'] = 'display_data';\n",
              "          await google.colab.output.renderOutput(dataTable, element);\n",
              "          const docLink = document.createElement('div');\n",
              "          docLink.innerHTML = docLinkHtml;\n",
              "          element.appendChild(docLink);\n",
              "        }\n",
              "      </script>\n",
              "    </div>\n",
              "  </div>\n",
              "  "
            ],
            "text/plain": [
              "   polynomial data  cubic data  squared data      data  ones\n",
              "0        96.987811   30.905649      9.848239  3.138190     1\n",
              "1       140.384339   40.783923     11.848390  3.442149     1\n",
              "2         2.930107    2.239560      1.711756  1.308341     1\n",
              "3         0.981892    0.986388      0.990905  0.995442     1\n",
              "4       110.397677   34.058063     10.507030  3.241455     1"
            ]
          },
          "metadata": {},
          "execution_count": 26
        }
      ]
    },
    {
      "cell_type": "code",
      "source": [
        "#Repeat process of computing the regression coefficients, but now use the matrix including cubic values\n",
        "\n",
        "x_train_poly_matrix = x_train_poly.to_numpy()\n",
        "x_train_poly_matrix_t = x_train_poly_matrix.transpose()\n",
        "print(\"Shape of polynomial X matrix is: \" + str(x_train_poly_matrix.shape))\n",
        "print(\"Shape of transpose of polynomial X matrix is: \" + str(x_train_poly_matrix_t.shape))\n",
        "\n",
        "x_T_x_poly = np.matmul(x_train_poly_matrix_t, x_train_poly_matrix)\n",
        "print(\"Shape of polynomial (X^T)X is: \" + str(x_T_x_poly.shape))\n",
        "\n",
        "x_T_x_poly_inv = np.linalg.inv(x_T_x_poly)\n",
        "print(\"Shape of polynomial ((X^T)X)-1 is: \" + str(x_T_x_poly_inv.shape))\n",
        "\n",
        "x_T_y_poly = np.matmul(x_train_poly_matrix_t, y_train_matrix)\n",
        "print(\"Shape of polynomial (X^T)y is: \" + str(x_T_y_poly.shape))\n",
        "\n",
        "soln_poly = np.matmul(x_T_x_poly_inv, x_T_y_poly)\n",
        "print(\"\\nSolution coefficients assuming polynomial fit are:\\n \" + str(soln_poly))"
      ],
      "metadata": {
        "colab": {
          "base_uri": "https://localhost:8080/",
          "height": 0
        },
        "id": "DPM9gX6cWJqF",
        "outputId": "2d148944-8390-41cd-afb1-9df70f5b5ef8"
      },
      "execution_count": 27,
      "outputs": [
        {
          "output_type": "stream",
          "name": "stdout",
          "text": [
            "Shape of polynomial X matrix is: (39, 5)\n",
            "Shape of transpose of polynomial X matrix is: (5, 39)\n",
            "Shape of polynomial (X^T)X is: (5, 5)\n",
            "Shape of polynomial ((X^T)X)-1 is: (5, 5)\n",
            "Shape of polynomial (X^T)y is: (5, 1)\n",
            "\n",
            "Solution coefficients assuming polynomial fit are:\n",
            " [[-0.06488959]\n",
            " [ 0.91257989]\n",
            " [-3.95817476]\n",
            " [ 6.6614613 ]\n",
            " [ 1.91279237]]\n"
          ]
        }
      ]
    },
    {
      "cell_type": "code",
      "source": [
        "#Compute error for the train set\n",
        "\n",
        "train_err = 0\n",
        "\n",
        "for idx, row in y_train.iterrows():\n",
        "  train_err += ((soln_poly[0][0]*(x_train['data'][idx]**4) + soln_poly[1][0]*(x_train['data'][idx]**3) + soln_poly[2][0]*(x_train['data'][idx]**2) + soln_poly[3][0]*(x_train['data'][idx]) + soln_poly[4][0]) - y_train['data'][idx]) ** 2\n",
        "\n",
        "train_err /= y_train.shape[0]\n",
        "train_err *= 100\n",
        "\n",
        "print(\"Training error for polynomial fit regression is: \" + str(train_err) + \" %\")"
      ],
      "metadata": {
        "colab": {
          "base_uri": "https://localhost:8080/",
          "height": 0
        },
        "id": "BCnOJkFAXop5",
        "outputId": "00770eb7-9c48-4e13-8e2f-80cf60395ca0"
      },
      "execution_count": 28,
      "outputs": [
        {
          "output_type": "stream",
          "name": "stdout",
          "text": [
            "Training error for polynomial fit regression is: 3.538250994768572 %\n"
          ]
        }
      ]
    },
    {
      "cell_type": "code",
      "source": [
        "#Display computed regression line over training data to estimate fit\n",
        "\n",
        "pred_x_quad = np.linspace(0, 4, num=500)\n",
        "\n",
        "\n",
        "pred_y_quad = soln_poly[0][0]*(pred_x_quad**4) + soln_poly[1][0]*(pred_x_quad**3) + soln_poly[2][0]*(pred_x_quad**2) + soln_poly[3][0]*(pred_x_quad) + soln_poly[4][0]\n",
        "\n",
        "ax = plt.axes()\n",
        "\n",
        "ax.plot(pred_x_quad, pred_y_quad)\n",
        "ax.scatter(x_train['data'], y_train)\n",
        "plt.title(\"Comparison of Training Data With Estimated Polynomial Regression Line\")"
      ],
      "metadata": {
        "colab": {
          "base_uri": "https://localhost:8080/",
          "height": 300
        },
        "id": "RQ__Tkd1YtxM",
        "outputId": "10c17422-6c37-495d-e085-4bb03131c567"
      },
      "execution_count": 29,
      "outputs": [
        {
          "output_type": "execute_result",
          "data": {
            "text/plain": [
              "Text(0.5, 1.0, 'Comparison of Training Data With Estimated Polynomial Regression Line')"
            ]
          },
          "metadata": {},
          "execution_count": 29
        },
        {
          "output_type": "display_data",
          "data": {
            "image/png": "[encoded data removed]",
            "text/plain": [
              "<Figure size 432x288 with 1 Axes>"
            ]
          },
          "metadata": {
            "needs_background": "light"
          }
        }
      ]
    },
    {
      "cell_type": "code",
      "source": [
        "#Compute error for the test set\n",
        "\n",
        "test_err = 0\n",
        "\n",
        "for idx, row in y_test.iterrows():\n",
        "  test_err += ((soln_poly[0][0]*(x_test['data'][idx]**4) + soln_poly[1][0]*(x_test['data'][idx]**3) + soln_poly[2][0]*(x_test['data'][idx]**2) + soln_poly[3][0]*(x_test['data'][idx]) + soln_poly[4][0]) - y_test['data'][idx]) ** 2\n",
        "\n",
        "test_err /= y_test.shape[0]\n",
        "test_err *= 100\n",
        "\n",
        "print(\"Test error for polynomial fit regression is: \" + str(test_err) + \" %\")"
      ],
      "metadata": {
        "colab": {
          "base_uri": "https://localhost:8080/",
          "height": 0
        },
        "id": "Mg2axwKNZIyr",
        "outputId": "9d374164-4d4e-40a2-fbd1-d83ea277f19b"
      },
      "execution_count": 30,
      "outputs": [
        {
          "output_type": "stream",
          "name": "stdout",
          "text": [
            "Test error for polynomial fit regression is: 12.909757166633911 %\n"
          ]
        }
      ]
    },
    {
      "cell_type": "code",
      "source": [
        "#Display computed regression line over training data to estimate fit\n",
        "\n",
        "pred_x_quad = np.linspace(0, 4, num=500)\n",
        "\n",
        "\n",
        "pred_y_quad = soln_poly[0][0]*(pred_x_quad**4) + soln_poly[1][0]*(pred_x_quad**3) + soln_poly[2][0]*(pred_x_quad**2) + soln_poly[3][0]*(pred_x_quad) + soln_poly[4][0]\n",
        "\n",
        "ax = plt.axes()\n",
        "\n",
        "ax.plot(pred_x_quad, pred_y_quad)\n",
        "ax.scatter(x_test['data'], y_test)\n",
        "plt.title(\"Comparison of Test Data With Estimated Polynomial Regression Line\")"
      ],
      "metadata": {
        "colab": {
          "base_uri": "https://localhost:8080/",
          "height": 300
        },
        "id": "QN_dxo626Ahp",
        "outputId": "171d8de7-e617-4d3c-f5df-12887bb135c6"
      },
      "execution_count": 31,
      "outputs": [
        {
          "output_type": "execute_result",
          "data": {
            "text/plain": [
              "Text(0.5, 1.0, 'Comparison of Test Data With Estimated Polynomial Regression Line')"
            ]
          },
          "metadata": {},
          "execution_count": 31
        },
        {
          "output_type": "display_data",
          "data": {
            "image/png": "[encoded data removed]",
            "text/plain": [
              "<Figure size 432x288 with 1 Axes>"
            ]
          },
          "metadata": {
            "needs_background": "light"
          }
        }
      ]
    },
    {
      "cell_type": "markdown",
      "source": [
        "Evidently applying a polynomial fit to the regression results in better training accuracy however worse performance in test accuracy. This implies that the model gets overfitted to the training set and cannot generalise to results presented in the test set. Hence the polynomial fit regression model performs better than both linear and quadratic regression, but worse than cubic regression."
      ],
      "metadata": {
        "id": "6F87KTYXZnM4"
      }
    },
    {
      "cell_type": "markdown",
      "source": [
        "# Question 3: L2-Regularization Parameter Computation"
      ],
      "metadata": {
        "id": "cosJMbb2aRin"
      }
    },
    {
      "cell_type": "markdown",
      "source": [
        "a) L2-Regularization Computation and Set-Up"
      ],
      "metadata": {
        "id": "tabg2SEh1816"
      }
    },
    {
      "cell_type": "code",
      "source": [
        "#Given (X^T)X is a 5x5 matrix for polynomial regression, the I matrix required in l2-regularized regression must match this dimensionality\n",
        "#The matrix is constant therefore it can be generated manually\n",
        "\n",
        "I_m = np.matrix('0 0 0 0 0; 0 1 0 0 0; 0 0 1 0 0; 0 0 0 1 0; 0 0 0 0 1')\n",
        "I_m"
      ],
      "metadata": {
        "colab": {
          "base_uri": "https://localhost:8080/",
          "height": 0
        },
        "id": "lZpvF2bwa8M9",
        "outputId": "a45838bc-f85d-45d7-a003-8ff2f8935410"
      },
      "execution_count": 32,
      "outputs": [
        {
          "output_type": "execute_result",
          "data": {
            "text/plain": [
              "matrix([[0, 0, 0, 0, 0],\n",
              "        [0, 1, 0, 0, 0],\n",
              "        [0, 0, 1, 0, 0],\n",
              "        [0, 0, 0, 1, 0],\n",
              "        [0, 0, 0, 0, 1]])"
            ]
          },
          "metadata": {},
          "execution_count": 32
        }
      ]
    },
    {
      "cell_type": "markdown",
      "source": [
        "Vary the value of lambda in range: 0.01, 0.1, 1, 10, 100, 1000 to compute l2-regularized polynomial-fit regression coefficients. Afterwards plot the results.\n",
        "\n"
      ],
      "metadata": {
        "id": "ZucxhxJfej0Q"
      }
    },
    {
      "cell_type": "code",
      "source": [
        "def l2_regularized_coeff(penalty, I_matrix_lambda):\n",
        "  I_matrix = I_matrix_lambda\n",
        "  I_matrix = penalty * I_matrix\n",
        "\n",
        "  x_T_x_poly_I_m = np.add(x_T_x_poly, I_matrix)\n",
        "\n",
        "  x_T_x_poly_I_m_inv = np.linalg.inv(x_T_x_poly_I_m)\n",
        "\n",
        "  soln_poly_lambda = np.matmul(x_T_x_poly_I_m_inv, x_T_y_poly)\n",
        "  print(\"\\nSolution coefficients assuming l2-regularized polynomial fit where lambda = \" + str(penalty) + \" are:\\n \" + str(soln_poly_lambda) + \"\\n\")\n",
        "  print(\"----------------------------------------------------------------------------------------------------------------------------------------------\")\n",
        "\n",
        "  return soln_poly_lambda"
      ],
      "metadata": {
        "id": "QMdIUheKgqb_"
      },
      "execution_count": 33,
      "outputs": []
    },
    {
      "cell_type": "code",
      "source": [
        "I_m_1 = l2_regularized_coeff(0.01, I_m)\n",
        "I_m_2 = l2_regularized_coeff(0.1, I_m)\n",
        "I_m_3 = l2_regularized_coeff(1, I_m)\n",
        "I_m_4 = l2_regularized_coeff(10, I_m)\n",
        "I_m_5 = l2_regularized_coeff(100, I_m)\n",
        "I_m_6 = l2_regularized_coeff(1000, I_m)"
      ],
      "metadata": {
        "colab": {
          "base_uri": "https://localhost:8080/",
          "height": 0
        },
        "id": "nClrr8Cthbj5",
        "outputId": "c5c9b06a-ece5-4292-8f00-ea53ca90f6c4"
      },
      "execution_count": 34,
      "outputs": [
        {
          "output_type": "stream",
          "name": "stdout",
          "text": [
            "\n",
            "Solution coefficients assuming l2-regularized polynomial fit where lambda = 0.01 are:\n",
            " [[-0.02144161]\n",
            " [ 0.58702145]\n",
            " [-3.16483774]\n",
            " [ 5.99128994]\n",
            " [ 2.02611896]]\n",
            "\n",
            "----------------------------------------------------------------------------------------------------------------------------------------------\n",
            "\n",
            "Solution coefficients assuming l2-regularized polynomial fit where lambda = 0.1 are:\n",
            " [[ 0.11080097]\n",
            " [-0.41711361]\n",
            " [-0.6763483 ]\n",
            " [ 3.84550832]\n",
            " [ 2.39062204]]\n",
            "\n",
            "----------------------------------------------------------------------------------------------------------------------------------------------\n",
            "\n",
            "Solution coefficients assuming l2-regularized polynomial fit where lambda = 1 are:\n",
            " [[ 0.13959663]\n",
            " [-0.78393635]\n",
            " [ 0.68243036]\n",
            " [ 2.24087034]\n",
            " [ 2.62955257]]\n",
            "\n",
            "----------------------------------------------------------------------------------------------------------------------------------------------\n",
            "\n",
            "Solution coefficients assuming l2-regularized polynomial fit where lambda = 10 are:\n",
            " [[-0.01652002]\n",
            " [-0.14077064]\n",
            " [ 0.62596896]\n",
            " [ 1.21421103]\n",
            " [ 1.97355887]]\n",
            "\n",
            "----------------------------------------------------------------------------------------------------------------------------------------------\n",
            "\n",
            "Solution coefficients assuming l2-regularized polynomial fit where lambda = 100 are:\n",
            " [[-0.12634411]\n",
            " [ 0.39220363]\n",
            " [ 0.44620275]\n",
            " [ 0.44146185]\n",
            " [ 0.5658618 ]]\n",
            "\n",
            "----------------------------------------------------------------------------------------------------------------------------------------------\n",
            "\n",
            "Solution coefficients assuming l2-regularized polynomial fit where lambda = 1000 are:\n",
            " [[-0.00430819]\n",
            " [ 0.15108004]\n",
            " [ 0.1310298 ]\n",
            " [ 0.09842369]\n",
            " [ 0.09381185]]\n",
            "\n",
            "----------------------------------------------------------------------------------------------------------------------------------------------\n"
          ]
        }
      ]
    },
    {
      "cell_type": "code",
      "source": [
        "combined_coefficients = np.hstack((I_m_1, I_m_2, I_m_3, I_m_4, I_m_5, I_m_6)).transpose()\n",
        "print(\"Representing the combination regression coefficients varied with the penalty (lambda) as a singular array wherein each column stores variation of each coefficient with shape \" + str(combined_coefficients.shape))"
      ],
      "metadata": {
        "colab": {
          "base_uri": "https://localhost:8080/",
          "height": 0
        },
        "id": "BACox6arorUV",
        "outputId": "b38272e3-60c0-424d-e100-b6ac34fd5af1"
      },
      "execution_count": 35,
      "outputs": [
        {
          "output_type": "stream",
          "name": "stdout",
          "text": [
            "Representing the combination regression coefficients varied with the penalty (lambda) as a singular array wherein each column stores variation of each coefficient with shape (6, 5)\n"
          ]
        }
      ]
    },
    {
      "cell_type": "markdown",
      "source": [
        "## Question 3: Plotting the Relation Between Train, Test Error and the Penalty Coefficient (Lambda) ##\n",
        "\n",
        "Compute the training and test for each set of regression coefficients when applying a certain value to the penalty term (lambda)"
      ],
      "metadata": {
        "id": "QR9jQeOuyY34"
      }
    },
    {
      "cell_type": "code",
      "source": [
        "def compute_train_err_poly(soln): \n",
        "\n",
        "#Compute error for the train set\n",
        "\n",
        "  train_err = 0\n",
        "\n",
        "  for idx, row in y_train.iterrows():\n",
        "    train_err += ((soln[0][0]*(x_train['data'][idx]**4) + soln[0][1]*(x_train['data'][idx]**3) + soln[0][2]*(x_train['data'][idx]**2) + soln[0][3]*(x_train['data'][idx]) + soln[0][4]) - y_train['data'][idx]) ** 2\n",
        "\n",
        "  train_err /= y_train.shape[0]\n",
        "\n",
        "  return train_err"
      ],
      "metadata": {
        "id": "JQq_ohDPsWWt"
      },
      "execution_count": 36,
      "outputs": []
    },
    {
      "cell_type": "code",
      "source": [
        "def compute_test_err_poly(soln): \n",
        "\n",
        "#Compute error for the train set\n",
        "\n",
        "  test_err = 0\n",
        "\n",
        "  for idx, row in y_test.iterrows():\n",
        "    test_err += ((soln[0][0]*(x_test['data'][idx]**4) + soln[0][1]*(x_test['data'][idx]**3) + soln[0][2]*(x_test['data'][idx]**2) + soln[0][3]*(x_test['data'][idx]) + soln[0][4]) - y_test['data'][idx]) ** 2\n",
        "\n",
        "  test_err /= y_test.shape[0]\n",
        "\n",
        "  return test_err"
      ],
      "metadata": {
        "id": "DlunEhYPvFFM"
      },
      "execution_count": 37,
      "outputs": []
    },
    {
      "cell_type": "code",
      "source": [
        "import math\n",
        "lambda_vals = [0.01, 0.1, 1, 10, 100, 1000]\n",
        "logged_lambda_vals = [round(math.log(x, 10)) for x in lambda_vals]\n",
        "\n",
        "training_err_all_lambda = [compute_train_err_poly(combined_coefficients[i, :].tolist()) for i in range(combined_coefficients.shape[0])]\n",
        "test_err_all_lambda = [compute_test_err_poly(combined_coefficients[i, :].tolist()) for i in range(combined_coefficients.shape[0])]\n",
        "\n",
        "plt.rcParams['figure.figsize'] = [25, 10]\n",
        "\n",
        "fig, axs = plt.subplots(2)\n",
        "axs[0].set_title(\"Comparison of Training Error with Variation in Penalty Term (Lambda)\")\n",
        "axs[0].set_xlabel(\"Base-10 Logarithm of Penalty Term (Lambda)\")\n",
        "axs[0].set_ylabel(\"Training error\")\n",
        "axs[0].plot(logged_lambda_vals, training_err_all_lambda)\n",
        "axs[1].set_title(\"Comparison of Test Error with Variation in Penalty Term (Lambda)\")\n",
        "axs[1].set_xlabel(\"Base-10 Logarithm of Penalty Term (Lambda)\")\n",
        "axs[1].set_ylabel(\"Test Error\")\n",
        "\n",
        "axs[1].plot(logged_lambda_vals, test_err_all_lambda)"
      ],
      "metadata": {
        "colab": {
          "base_uri": "https://localhost:8080/",
          "height": 640
        },
        "id": "iArFBKBUsxzR",
        "outputId": "0130d9b2-31d5-45cd-ec46-041be5420f36"
      },
      "execution_count": 38,
      "outputs": [
        {
          "output_type": "execute_result",
          "data": {
            "text/plain": [
              "[<matplotlib.lines.Line2D at 0x7faed71d83d0>]"
            ]
          },
          "metadata": {},
          "execution_count": 38
        },
        {
          "output_type": "display_data",
          "data": {
            "image/png": "[encoded data removed]",
            "text/plain": [
              "<Figure size 1800x720 with 2 Axes>"
            ]
          },
          "metadata": {
            "needs_background": "light"
          }
        }
      ]
    },
    {
      "cell_type": "markdown",
      "source": [
        "Evidently the lowest penalty coefficient yields the best results in both test and train sets. However to maintain a proper bias-variance tradeoff, it is optimal to select the largest penalty such that the model maintains enough complexity to generalise. In that case, selecting the value where lambda = 1 is ideal (log(1) = 0 on the plot, hence lambda = 1)."
      ],
      "metadata": {
        "id": "xUbnSrcG2Tsa"
      }
    },
    {
      "cell_type": "markdown",
      "source": [
        "## Plotting the Relation Between Regression Coefficients and the Penalty Term (Lambda) ##\n",
        "\n",
        "b) Similarly, plot the change in each regression coefficient's value given a certain value of the penalty (lambda). "
      ],
      "metadata": {
        "id": "PO_mAiq8zH-Z"
      }
    },
    {
      "cell_type": "code",
      "source": [
        "plt.rcParams['figure.figsize'] = [25, 20]\n",
        "\n",
        "fig, axs = plt.subplots(3, 2)\n",
        "\n",
        "#There exist five coefficients in polynomial regression: the four polynomial terms and the constant term; plot each one's variation with the penalty for comparison\n",
        "\n",
        "axs[0, 0].set_title(\"Fourth-Degree Regression Coefficient Variation in Relation to Penalty (Lambda)\")\n",
        "axs[0, 0].set_xlabel(\"Base-10 Logarithm of Penalty Term (Lambda)\")\n",
        "axs[0, 0].set_ylabel(\"Fourth-Degree Regression Coefficient\")\n",
        "axs[0, 0].plot(logged_lambda_vals, combined_coefficients[:, 0])\n",
        "\n",
        "axs[0, 1].set_title(\"Third-Degree Regression Coefficient Variation in Relation to Penalty (Lambda)\")\n",
        "axs[0, 1].set_xlabel(\"Base-10 Logarithm of Penalty Term (Lambda)\")\n",
        "axs[0, 1].set_ylabel(\"Third-Degree Regression Coefficient\")\n",
        "axs[0, 1].plot(logged_lambda_vals, combined_coefficients[:, 1])\n",
        "\n",
        "axs[1, 0].set_title(\"Second-Degree Regression Coefficient Variation in Relation to Penalty (Lambda)\")\n",
        "axs[1, 0].set_xlabel(\"Base-10 Logarithm of Penalty Term (Lambda)\")\n",
        "axs[1, 0].set_ylabel(\"Second-Degree Regression Coefficient\")\n",
        "axs[1, 0].plot(logged_lambda_vals, combined_coefficients[:, 2])\n",
        "\n",
        "axs[1, 1].set_title(\"First-Degree Regression Coefficient Variation in Relation to Penalty (Lambda)\")\n",
        "axs[1, 1].set_xlabel(\"Base-10 Logarithm of Penalty Term (Lambda)\")\n",
        "axs[1, 1].set_ylabel(\"First-Degree Regression Coefficient\")\n",
        "axs[1, 1].plot(logged_lambda_vals, combined_coefficients[:, 3])\n",
        "\n",
        "axs[2, 0].set_title(\"Constant Regression Coefficient Variation in Relation to Penalty (Lambda)\")\n",
        "axs[2, 0].set_xlabel(\"Base-10 Logarithm of Penalty Term (Lambda)\")\n",
        "axs[2, 0].set_ylabel(\"Constant Regression Coefficient\")\n",
        "axs[2, 0].plot(logged_lambda_vals, combined_coefficients[:, 4])"
      ],
      "metadata": {
        "colab": {
          "base_uri": "https://localhost:8080/",
          "height": 1000
        },
        "id": "qVx-7DyvkI0G",
        "outputId": "c8c0e231-3c6b-491b-a6ec-486871d05aaf"
      },
      "execution_count": 39,
      "outputs": [
        {
          "output_type": "execute_result",
          "data": {
            "text/plain": [
              "[<matplotlib.lines.Line2D at 0x7faed7022e10>]"
            ]
          },
          "metadata": {},
          "execution_count": 39
        },
        {
          "output_type": "display_data",
          "data": {
            "image/png": "[encoded data removed]",
            "text/plain": [
              "<Figure size 1800x1440 with 6 Axes>"
            ]
          },
          "metadata": {
            "needs_background": "light"
          }
        }
      ]
    },
    {
      "cell_type": "markdown",
      "source": [
        "It is evident that the lower degree quadratic, linear and constant terms follow a linear relationship with the penalty coefficient, either increasing or decreasing with it. Hence the penalty coefficient applies well to those terms. However the higher degree cubic and polynomial terms have no clear relationship with the penalty coefficient. "
      ],
      "metadata": {
        "id": "l01t432C76bC"
      }
    },
    {
      "cell_type": "markdown",
      "source": [
        "## Performing Five-Fold Cross-Validation for Computing Best Penalty Term ##\n",
        "c) There is no way to 'train' the model on multiple splits of the dataset since it is a regression problem. Only an exact solution exists, hence on every iteration of training, the model parameters will completely change indifferent to the prior loops. In this case it makes sense to simply test directly on the validation set every time. However in doing so, that is mathematically equivalent to taking the average over all training results, which has already been done.\n",
        "\n",
        "Hence applying five-fold cross validation to an exact, invertible regression problem is infeasible. The resulting ideal value for the penalty coefficient (lambda) will remain unchanged from before as five-fold cross-validation will just repeat the process."
      ],
      "metadata": {
        "id": "_WUyG9IY2aJ6"
      }
    },
    {
      "cell_type": "markdown",
      "source": [
        ""
      ],
      "metadata": {
        "id": "nvTYZoaB9xF8"
      }
    }
  ]
}